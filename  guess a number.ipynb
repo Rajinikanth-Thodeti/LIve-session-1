{
 "cells": [
  {
   "cell_type": "code",
   "execution_count": 12,
   "id": "59877f2d",
   "metadata": {},
   "outputs": [
    {
     "name": "stdout",
     "output_type": "stream",
     "text": [
      "Enter a number between 1 to 1000: 3\n",
      "go up buddy!\n",
      "7\n"
     ]
    }
   ],
   "source": [
    "from random import randint\n",
    "num=randint(0,10)\n",
    "n=int(input('Enter a number between 1 to 1000: '))\n",
    "\n",
    "if(n<num):\n",
    "    print('go up buddy!')\n",
    "elif(n>num):\n",
    "    print('calm down and come down bro!')\n",
    "else: \n",
    "    print('atta boy! you guessed it right!!\\n cheers!!!')\n",
    "    \n",
    "print(num)"
   ]
  }
 ],
 "metadata": {
  "kernelspec": {
   "display_name": "Python 3 (ipykernel)",
   "language": "python",
   "name": "python3"
  },
  "language_info": {
   "codemirror_mode": {
    "name": "ipython",
    "version": 3
   },
   "file_extension": ".py",
   "mimetype": "text/x-python",
   "name": "python",
   "nbconvert_exporter": "python",
   "pygments_lexer": "ipython3",
   "version": "3.11.2"
  }
 },
 "nbformat": 4,
 "nbformat_minor": 5
}
